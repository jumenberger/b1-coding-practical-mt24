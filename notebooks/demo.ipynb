{
 "cells": [
  {
   "cell_type": "markdown",
   "metadata": {},
   "source": [
    "# Demo Script\n",
    "\n",
    "This file can be used to test out functionality of the code"
   ]
  },
  {
   "cell_type": "markdown",
   "metadata": {},
   "source": [
    "### Load extensions and check PATH"
   ]
  },
  {
   "cell_type": "code",
   "execution_count": 1,
   "metadata": {},
   "outputs": [],
   "source": [
    "%load_ext autoreload\n",
    "%autoreload 2"
   ]
  },
  {
   "cell_type": "code",
   "execution_count": null,
   "metadata": {},
   "outputs": [],
   "source": [
    "import sys\n",
    "print(\"\\n\".join(sys.path))"
   ]
  },
  {
   "cell_type": "markdown",
   "metadata": {},
   "source": [
    "### Test data extraction method"
   ]
  },
  {
   "cell_type": "code",
   "execution_count": 3,
   "metadata": {},
   "outputs": [],
   "source": [
    "# Script to test Mission class\n",
    "from uuv_mission import Submarine, Mission, Trajectory\n",
    "\n",
    "submarine = Submarine()\n",
    "random_mission = Mission.random_mission(duration=100, scale=40)\n",
    "mission = Mission.from_csv('C:/Users/cvest/Claudio/Oxford/3rd Year/B1/b1-coding-practical-mt24/data/mission.csv')\n",
    "# Trajectory.plot_completed_mission(submarine, mission) # to check data extraction"
   ]
  },
  {
   "cell_type": "markdown",
   "metadata": {},
   "source": [
    "## Simulate closed-loop\n",
    "### Test the PD controller"
   ]
  },
  {
   "cell_type": "code",
   "execution_count": null,
   "metadata": {},
   "outputs": [],
   "source": [
    "from uuv_mission import Submarine, Mission, ClosedLoop, PDController\n",
    "\n",
    "sub = Submarine()\n",
    "\n",
    "A, B, C, D = sub.get_dynamics()\n",
    "pd_controller = PDController(A, B, C, D)\n",
    "\n",
    "closed_loop = ClosedLoop(sub, pd_controller)\n",
    "mission = Mission.from_csv(\n",
    "    'C:/Users/cvest/Claudio/Oxford/3rd Year/B1/b1-coding-practical-mt24/data/mission.csv'\n",
    ")\n",
    "random_mission = Mission.random_mission(duration=100, scale=40) # to test on random mission\n",
    "\n",
    "trajectory = closed_loop.simulate_with_random_disturbances(mission)\n",
    "trajectory.plot_completed_mission(mission)"
   ]
  },
  {
   "cell_type": "markdown",
   "metadata": {},
   "source": [
    "### Test the MPC controller"
   ]
  },
  {
   "cell_type": "code",
   "execution_count": null,
   "metadata": {},
   "outputs": [],
   "source": [
    "# Decided to leave this as report was already getting long"
   ]
  }
 ],
 "metadata": {
  "kernelspec": {
   "display_name": "a2e",
   "language": "python",
   "name": "python3"
  },
  "language_info": {
   "codemirror_mode": {
    "name": "ipython",
    "version": 3
   },
   "file_extension": ".py",
   "mimetype": "text/x-python",
   "name": "python",
   "nbconvert_exporter": "python",
   "pygments_lexer": "ipython3",
   "version": "3.11.4"
  }
 },
 "nbformat": 4,
 "nbformat_minor": 2
}
